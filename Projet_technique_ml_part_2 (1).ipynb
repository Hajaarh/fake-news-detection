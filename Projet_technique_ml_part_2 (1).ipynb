{
  "nbformat": 4,
  "nbformat_minor": 0,
  "metadata": {
    "colab": {
      "provenance": []
    },
    "kernelspec": {
      "name": "python3",
      "display_name": "Python 3"
    },
    "language_info": {
      "name": "python"
    }
  },
  "cells": [
    {
      "cell_type": "markdown",
      "source": [
        "# - Détection de FakeNews\n"
      ],
      "metadata": {
        "id": "Gyt-ToHLr1Hp"
      }
    },
    {
      "cell_type": "markdown",
      "source": [
        "### Préparation du jeu de données\n"
      ],
      "metadata": {
        "id": "eUde4t1otXDc"
      }
    },
    {
      "cell_type": "markdown",
      "source": [
        "### Imports généraux"
      ],
      "metadata": {
        "id": "d_yWeyUN5Kpb"
      }
    },
    {
      "cell_type": "code",
      "source": [
        "import pandas as pd\n",
        "import numpy as np\n",
        "import re\n",
        "import seaborn as sns\n",
        "import matplotlib.pyplot as plt\n",
        "from sklearn.preprocessing import OneHotEncoder, StandardScaler\n",
        "from sklearn.model_selection import train_test_split\n",
        "from sklearn.decomposition import PCA\n",
        "from sklearn.linear_model import LogisticRegression\n",
        "from sklearn.tree import DecisionTreeClassifier\n",
        "from sklearn.ensemble import RandomForestClassifier, GradientBoostingClassifier\n",
        "from sklearn.metrics import accuracy_score, confusion_matrix, classification_report"
      ],
      "metadata": {
        "id": "xUU6tfdsuhBz"
      },
      "execution_count": 1,
      "outputs": []
    },
    {
      "cell_type": "code",
      "source": [
        "# 0) Dictionnaire (id → libellé) fourni\n",
        "id2cat = {\n",
        "     0: \"politique\",\n",
        "     1: \"sante\",\n",
        "     2: \"international\",\n",
        "     3: \"economie\",\n",
        "     4: \"justice\",\n",
        "     5: \"culture\",\n",
        "     6: \"humour\",\n",
        "     7: \"religion\",\n",
        "     8: \"societe\",\n",
        "     9: \"faitsdivers\",\n",
        "    10: \"sport\",\n",
        "}\n",
        "\n",
        "# 1) Chargement\n",
        "df = pd.read_csv(\"fake_news_sample_categorised.csv\", encoding=\"utf-8\")\n",
        "\n",
        "\n",
        "# 2) Harmonisation des noms + indicateurs manquants\n",
        "rename_map = {\n",
        "    \"word_count\"        : \"nb_mots\",\n",
        "    \"char_count\"        : \"nb_caracteres\",\n",
        "    \"sentence_count\"    : \"nb_phrases\",\n",
        "    \"uppercase_ratio\"   : \"maj_ratio\",\n",
        "    \"punctuation_count\" : \"ponctuation_expressive\",\n",
        "    \"keywords_any\"      : \"mot_cle_detecte\",\n",
        "}\n",
        "df.rename(columns={c: v for c, v in rename_map.items() if c in df.columns},\n",
        "          inplace=True)\n",
        "\n",
        "# ratio mots uniques\n",
        "if \"ratio_mots_uniques\" not in df.columns:\n",
        "    if {\"nb_mots\", \"repeated_words_ratio\"}.issubset(df.columns):\n",
        "        df[\"ratio_mots_uniques\"] = ((1 - df[\"repeated_words_ratio\"])\n",
        "                                    .where(df[\"nb_mots\"] > 0, 0)\n",
        "                                    .round(3))\n",
        "    else:\n",
        "        df[\"ratio_mots_uniques\"] = 0.0\n",
        "\n",
        "# maj_present booléen\n",
        "df[\"maj_present\"] = (df.get(\"maj_ratio\", 0) > 0).astype(int)\n",
        "\n",
        "# ponctuation_expressive (fallback si besoin)\n",
        "if \"ponctuation_expressive\" not in df.columns:\n",
        "    df[\"ponctuation_expressive\"] = df[\"post\"].astype(str).str.count(r\"[!?]\")\n",
        "\n",
        "\n",
        "# 3) Mise à jour / création de la colonne `categorie`\n",
        "if \"id_categorie\" in df.columns:\n",
        "    df[\"categorie\"] = df[\"id_categorie\"].map(id2cat)\n",
        "else:\n",
        "    # ou l’inverse : texte → ID\n",
        "    cat2id = {v: k for k, v in id2cat.items()}\n",
        "    df[\"id_categorie\"] = df[\"categorie\"].map(cat2id)\n"
      ],
      "metadata": {
        "id": "St4pVY8alOx9"
      },
      "execution_count": 23,
      "outputs": []
    },
    {
      "cell_type": "markdown",
      "source": [
        "Le script charge le CSV, renomme et calcule les indicateurs dont on a besoin (longueur, ratio de mots uniques, majuscules, ponctuation…), puis ne garde que ces colonnes + la cible fake et la categorie.\n",
        "On obtient ainsi un df allégé (df_model, 8 colonnes, 9 552 lignes) prêt à être encodé et utilisé pour entraîner un modèle de prédiction des fake news."
      ],
      "metadata": {
        "id": "IIDvREHiq_d3"
      }
    },
    {
      "cell_type": "code",
      "source": [
        "# Sélection des colonnes à passer au modèle  (on **ignore** temporairement\n",
        "# 'post' et 'post_clean' colonnes textuelles – on ne les supprime pas du DataFrame original)\n",
        "# --------------------------------------------------------------------\n",
        "features_num = [\n",
        "    \"nb_mots\", \"nb_caracteres\", \"nb_phrases\",\n",
        "    \"ratio_mots_uniques\", \"maj_present\", \"ponctuation_expressive\"\n",
        "]\n",
        "target = \"fake\"\n",
        "\n",
        "# DataFrame limité aux colonnes utiles pour le modèle\n",
        "df_num = df[features_num + [\"categorie\", target]].dropna()\n",
        "\n",
        "# --- One-Hot sur la catégorie ---\n",
        "ohe = OneHotEncoder(handle_unknown=\"ignore\", sparse_output=False)\n",
        "cat_encoded = ohe.fit_transform(df_num[[\"categorie\"]])\n",
        "\n",
        "cat_cols = [f\"cat_{c}\" for c in ohe.categories_[0]]\n",
        "df_cat   = pd.DataFrame(cat_encoded, columns=cat_cols, index=df_num.index)\n",
        "\n",
        "# ---  concaténation (on enlève simplement `categorie` du modèle) ---\n",
        "df_ml = pd.concat([df_num.drop(columns=[\"categorie\"]), df_cat], axis=1)\n",
        "\n",
        "\n",
        "# 6) Contrôle final\n",
        "print(\"Dimensions finales :\", df_ml.shape)\n",
        "print(df_ml.head())\n"
      ],
      "metadata": {
        "colab": {
          "base_uri": "https://localhost:8080/"
        },
        "id": "ykWRsXwk3j2b",
        "outputId": "44a3cdac-757d-46d6-b391-885217fa48d8"
      },
      "execution_count": 25,
      "outputs": [
        {
          "output_type": "stream",
          "name": "stdout",
          "text": [
            "Dimensions finales : (9552, 18)\n",
            "   nb_mots  nb_caracteres  nb_phrases  ratio_mots_uniques  maj_present  \\\n",
            "0       19            237           4               0.789            0   \n",
            "1        4             32           1               1.000            0   \n",
            "2       26            300           3               0.923            0   \n",
            "3       16            223           3               0.938            0   \n",
            "4      184           2066          15               0.788            0   \n",
            "\n",
            "   ponctuation_expressive  fake  cat_culture  cat_economie  cat_faitsdivers  \\\n",
            "0                       6     0          0.0           0.0              0.0   \n",
            "1                       0     1          0.0           0.0              0.0   \n",
            "2                      12     0          0.0           0.0              0.0   \n",
            "3                       9     0          0.0           1.0              0.0   \n",
            "4                      44     1          0.0           0.0              0.0   \n",
            "\n",
            "   cat_humour  cat_international  cat_justice  cat_politique  cat_religion  \\\n",
            "0         0.0                0.0          0.0            0.0           1.0   \n",
            "1         0.0                0.0          0.0            1.0           0.0   \n",
            "2         0.0                0.0          0.0            0.0           1.0   \n",
            "3         0.0                0.0          0.0            0.0           0.0   \n",
            "4         0.0                0.0          0.0            0.0           0.0   \n",
            "\n",
            "   cat_sante  cat_societe  cat_sport  \n",
            "0        0.0          0.0        0.0  \n",
            "1        0.0          0.0        0.0  \n",
            "2        0.0          0.0        0.0  \n",
            "3        0.0          0.0        0.0  \n",
            "4        0.0          0.0        1.0  \n"
          ]
        }
      ]
    },
    {
      "cell_type": "markdown",
      "source": [
        "### Séparation des données"
      ],
      "metadata": {
        "id": "6I8OhHMU4TKB"
      }
    },
    {
      "cell_type": "code",
      "source": [
        "# 7) Séparation X (variables explicatives) / y (cible) + split train-test\n",
        "\n",
        "# a) features  &  target\n",
        "X = df_ml.drop(columns=[\"fake\"])   # tout sauf la cible fake\n",
        "y = df_ml[\"fake\"]\n",
        "\n",
        "# b) découpe 80 % / 20 %\n",
        "X_train, X_test, y_train, y_test = train_test_split(\n",
        "        X, y,\n",
        "        test_size=0.20,          # 20 % pour le jeu de test\n",
        "        stratify=y,              # conserve la proportion de fake / vrai\n",
        "        random_state=42,         # réplicable\n",
        ")\n",
        "\n",
        "# petit contrôle\n",
        "print(\"Shapes :\")\n",
        "print(\"  X_train :\", X_train.shape)\n",
        "print(\"  X_test  :\", X_test.shape)\n",
        "print(\"  y_train :\", y_train.shape)\n",
        "print(\"  y_test  :\", y_test.shape)"
      ],
      "metadata": {
        "colab": {
          "base_uri": "https://localhost:8080/"
        },
        "id": "4xFHI9tB4UzZ",
        "outputId": "63519095-9159-4239-b07d-57fbd009c60a"
      },
      "execution_count": 26,
      "outputs": [
        {
          "output_type": "stream",
          "name": "stdout",
          "text": [
            "Shapes :\n",
            "  X_train : (7641, 17)\n",
            "  X_test  : (1911, 17)\n",
            "  y_train : (7641,)\n",
            "  y_test  : (1911,)\n"
          ]
        }
      ]
    },
    {
      "cell_type": "markdown",
      "source": [
        "On a bien :\n",
        "\n",
        "7 641 lignes pour l’entraînement (≈ 80 % des 9 552 lignes totales)\n",
        "\n",
        "1 911 lignes pour le test (≈ 20 %)\n",
        "\n",
        "Chaque jeu possède 35 colonnes : ce sont toutes nos variables numériques (indicateurs + one-hot des catégories).\n",
        "\n",
        "Les vecteurs y_train et y_test contiennent juste la cible fake (0 ou 1) pour les mêmes nombres de lignes."
      ],
      "metadata": {
        "id": "TzcefCix4sGc"
      }
    },
    {
      "cell_type": "markdown",
      "source": [
        "### Entraînement de modèles"
      ],
      "metadata": {
        "id": "bY2_LTUjMVU6"
      }
    },
    {
      "cell_type": "code",
      "source": [
        "def eval_model_viz(name, model, X_train, X_test, y_train, y_test):\n",
        "    print(f\"\\n--- {name} ---\")\n",
        "\n",
        "    # Sélection des colonnes numériques uniquement (sans supprimer de X_train/X_test)\n",
        "    X_train_num = X_train.select_dtypes(include=[np.number])\n",
        "    X_test_num = X_test[X_train_num.columns]  # garder les mêmes colonnes dans test\n",
        "\n",
        "    # Entraînement\n",
        "    model.fit(X_train_num, y_train)\n",
        "\n",
        "    # Prédiction\n",
        "    y_pred = model.predict(X_test_num)\n",
        "\n",
        "    # Résultats textuels\n",
        "    print(\"Accuracy :\", accuracy_score(y_test, y_pred))\n",
        "    print(\"Confusion Matrix :\")\n",
        "    print(confusion_matrix(y_test, y_pred))\n",
        "    print(\"Classification Report :\")\n",
        "    print(classification_report(y_test, y_pred))\n",
        "\n",
        "    # Analyse rapide des distributions\n",
        "    counts = np.bincount(y_test)\n",
        "    print(f\"Distribution réelle des classes : {dict(enumerate(counts))}\")\n",
        "    counts_pred = np.bincount(y_pred)\n",
        "    print(f\"Distribution prédite des classes : {dict(enumerate(counts_pred))}\")\n",
        "\n",
        "    # Visualisation matrice de confusion\n",
        "    cm = confusion_matrix(y_test, y_pred)\n",
        "    plt.figure(figsize=(6,4))\n",
        "    sns.heatmap(cm, annot=True, fmt='d', cmap='Blues', cbar=False)\n",
        "    plt.xlabel('Prédit')\n",
        "    plt.ylabel('Réel')\n",
        "    plt.title(f'Matrice de Confusion - {name}')\n",
        "    plt.show()"
      ],
      "metadata": {
        "id": "WO25JX6bMXko"
      },
      "execution_count": 29,
      "outputs": []
    },
    {
      "cell_type": "markdown",
      "source": [
        "### Régression logistique"
      ],
      "metadata": {
        "id": "qFMkuBXigofV"
      }
    },
    {
      "cell_type": "code",
      "source": [
        "# Instanciation des modèles\n",
        "logreg = LogisticRegression(max_iter=1000, random_state=42)\n",
        "dtree = DecisionTreeClassifier(random_state=42)\n",
        "rf = RandomForestClassifier(random_state=42)\n",
        "gbc = GradientBoostingClassifier(random_state=42)\n",
        "\n",
        "# Évaluation de chaque modèle\n",
        "eval_model_viz(\"Régression Logistique\", logreg, X_train, X_test, y_train, y_test)"
      ],
      "metadata": {
        "colab": {
          "base_uri": "https://localhost:8080/",
          "height": 862
        },
        "id": "5a__rgGKMuwP",
        "outputId": "333e2e52-73c7-48ed-c268-b0dbb28250f6"
      },
      "execution_count": 30,
      "outputs": [
        {
          "output_type": "stream",
          "name": "stdout",
          "text": [
            "\n",
            "--- Régression Logistique ---\n",
            "Accuracy : 0.760858189429618\n",
            "Confusion Matrix :\n",
            "[[695 274]\n",
            " [183 759]]\n",
            "Classification Report :\n",
            "              precision    recall  f1-score   support\n",
            "\n",
            "           0       0.79      0.72      0.75       969\n",
            "           1       0.73      0.81      0.77       942\n",
            "\n",
            "    accuracy                           0.76      1911\n",
            "   macro avg       0.76      0.76      0.76      1911\n",
            "weighted avg       0.76      0.76      0.76      1911\n",
            "\n",
            "Distribution réelle des classes : {0: np.int64(969), 1: np.int64(942)}\n",
            "Distribution prédite des classes : {0: np.int64(878), 1: np.int64(1033)}\n"
          ]
        },
        {
          "output_type": "stream",
          "name": "stderr",
          "text": [
            "/usr/local/lib/python3.11/dist-packages/sklearn/linear_model/_logistic.py:465: ConvergenceWarning: lbfgs failed to converge (status=1):\n",
            "STOP: TOTAL NO. OF ITERATIONS REACHED LIMIT.\n",
            "\n",
            "Increase the number of iterations (max_iter) or scale the data as shown in:\n",
            "    https://scikit-learn.org/stable/modules/preprocessing.html\n",
            "Please also refer to the documentation for alternative solver options:\n",
            "    https://scikit-learn.org/stable/modules/linear_model.html#logistic-regression\n",
            "  n_iter_i = _check_optimize_result(\n"
          ]
        },
        {
          "output_type": "display_data",
          "data": {
            "text/plain": [
              "<Figure size 600x400 with 1 Axes>"
            ],
            "image/png": "[encoded data removed]"
          },
          "metadata": {}
        }
      ]
    },
    {
      "cell_type": "markdown",
      "source": [
        "Une régression logistique a été utilisée pour prédire une variable binaire (0 ou 1).\n",
        "\n",
        "Le modèle a été entraîné, puis testé sur un jeu de données.\n",
        "\n",
        "Des métriques comme accuracy, précision, rappel, f1-score et une matrice de confusion ont été affichées pour évaluer les performances du modèle.\n",
        "\n",
        "Un avertissement s’affiche indiquant que l'algorithme lbfgs n'a pas convergé (le nombre maximum d’itérations a été atteint)."
      ],
      "metadata": {
        "id": "-n2bh0OHNPiz"
      }
    },
    {
      "cell_type": "markdown",
      "source": [
        "### Modèle d'arbre de décision"
      ],
      "metadata": {
        "id": "9-m0CqqPgiHY"
      }
    },
    {
      "cell_type": "code",
      "source": [
        "eval_model_viz(\"Arbre de Décision\", dtree, X_train, X_test, y_train, y_test)\n"
      ],
      "metadata": {
        "colab": {
          "base_uri": "https://localhost:8080/",
          "height": 722
        },
        "id": "9XqO0EWZNP9P",
        "outputId": "313739a7-6f6f-414e-a378-af24a53f04cc"
      },
      "execution_count": 16,
      "outputs": [
        {
          "output_type": "stream",
          "name": "stdout",
          "text": [
            "\n",
            "--- Arbre de Décision ---\n",
            "Accuracy : 0.8906331763474621\n",
            "Confusion Matrix :\n",
            "[[865 104]\n",
            " [105 837]]\n",
            "Classification Report :\n",
            "              precision    recall  f1-score   support\n",
            "\n",
            "           0       0.89      0.89      0.89       969\n",
            "           1       0.89      0.89      0.89       942\n",
            "\n",
            "    accuracy                           0.89      1911\n",
            "   macro avg       0.89      0.89      0.89      1911\n",
            "weighted avg       0.89      0.89      0.89      1911\n",
            "\n",
            "Distribution réelle des classes : {0: np.int64(969), 1: np.int64(942)}\n",
            "Distribution prédite des classes : {0: np.int64(970), 1: np.int64(941)}\n"
          ]
        },
        {
          "output_type": "display_data",
          "data": {
            "text/plain": [
              "<Figure size 600x400 with 1 Axes>"
            ],
            "image/png": "[encoded data removed]"
          },
          "metadata": {}
        }
      ]
    },
    {
      "cell_type": "markdown",
      "source": [
        "Nous avons utilisé un modèle d'arbre de décision pour faire de la classification binaire.\n",
        "\n",
        "Performance globale :\n",
        "Accuracy : 89 % → Le modèle classe correctement 89 % des cas, donc plus performant que la régression logistique (76 %).\n",
        "\n",
        "F1-score pour chaque classe : 0.89 → Très bon équilibre entre prédictions positives et négatives.\n",
        "\n",
        "Matrice de confusion :\n",
        "Classe 0 (réel 0, négatif) :\n",
        "\n",
        "865 bien prédits (vrais négatifs)\n",
        "\n",
        "104 faux positifs (prédit à tort en 1)\n",
        "\n",
        "Classe 1 (réel 1, positif) :\n",
        "\n",
        "837 bien prédits (vrais positifs)\n",
        "\n",
        "105 faux négatifs (prédit à tort en 0)\n",
        "\n",
        "Ce modèle fait très peu d’erreurs comparé au précédent. Il a une meilleure capacité à détecter les deux classes."
      ],
      "metadata": {
        "id": "oqhV0ag_euUA"
      }
    },
    {
      "cell_type": "markdown",
      "source": [
        "### Modèle Random Forest"
      ],
      "metadata": {
        "id": "bg-vTsqAgdDo"
      }
    },
    {
      "cell_type": "code",
      "source": [
        "eval_model_viz(\"Random Forest\", rf, X_train, X_test, y_train, y_test)"
      ],
      "metadata": {
        "colab": {
          "base_uri": "https://localhost:8080/",
          "height": 722
        },
        "id": "i_CfYbI-NSaA",
        "outputId": "85078ead-31ec-4053-f247-e7f5a179085a"
      },
      "execution_count": 17,
      "outputs": [
        {
          "output_type": "stream",
          "name": "stdout",
          "text": [
            "\n",
            "--- Random Forest ---\n",
            "Accuracy : 0.9387755102040817\n",
            "Confusion Matrix :\n",
            "[[927  42]\n",
            " [ 75 867]]\n",
            "Classification Report :\n",
            "              precision    recall  f1-score   support\n",
            "\n",
            "           0       0.93      0.96      0.94       969\n",
            "           1       0.95      0.92      0.94       942\n",
            "\n",
            "    accuracy                           0.94      1911\n",
            "   macro avg       0.94      0.94      0.94      1911\n",
            "weighted avg       0.94      0.94      0.94      1911\n",
            "\n",
            "Distribution réelle des classes : {0: np.int64(969), 1: np.int64(942)}\n",
            "Distribution prédite des classes : {0: np.int64(1002), 1: np.int64(909)}\n"
          ]
        },
        {
          "output_type": "display_data",
          "data": {
            "text/plain": [
              "<Figure size 600x400 with 1 Axes>"
            ],
            "image/png": "[encoded data removed]"
          },
          "metadata": {}
        }
      ]
    },
    {
      "cell_type": "markdown",
      "source": [
        "Performance globale :\n",
        "Accuracy : 94 % → Le meilleur score parmi les trois modèles testés.\n",
        "\n",
        "F1-score (classe 0 & 1) : 0.94 → Très bon équilibre entre les prédictions positives et négatives.\n",
        "\n",
        "Rappel élevé :\n",
        "\n",
        "Classe 0 : 96 % des vrais 0 bien prédits.\n",
        "\n",
        "Classe 1 : 92 % des vrais 1 bien prédits.\n",
        "\n",
        "Matrice de confusion :\n",
        "Classe 0 (négatif) :\n",
        "\n",
        "927 bien prédits\n",
        "\n",
        "42 mal prédits (faux positifs)\n",
        "\n",
        "Classe 1 (positif) :\n",
        "\n",
        "867 bien prédits\n",
        "\n",
        "75 mal prédits (faux négatifs)"
      ],
      "metadata": {
        "id": "o9jmvyflfUg-"
      }
    },
    {
      "cell_type": "markdown",
      "source": [
        "Le modèle Random Forest est clairement le plus performant ici. Il fait moins d’erreurs, est équilibré pour les deux classes et a une meilleure capacité de généralisation que la régression logistique et l’arbre seul."
      ],
      "metadata": {
        "id": "EYZh9qMChA9r"
      }
    },
    {
      "cell_type": "markdown",
      "source": [
        "### Modèle Gradient Boosting"
      ],
      "metadata": {
        "id": "E2goDQlHhYE2"
      }
    },
    {
      "cell_type": "code",
      "source": [
        "eval_model_viz(\"Gradient Boosting\", gbc, X_train, X_test, y_train, y_test)"
      ],
      "metadata": {
        "colab": {
          "base_uri": "https://localhost:8080/",
          "height": 722
        },
        "id": "GGv3hcVENWIb",
        "outputId": "de547622-2417-4a1b-f922-036a7329ea57"
      },
      "execution_count": 18,
      "outputs": [
        {
          "output_type": "stream",
          "name": "stdout",
          "text": [
            "\n",
            "--- Gradient Boosting ---\n",
            "Accuracy : 0.9314495028780743\n",
            "Confusion Matrix :\n",
            "[[924  45]\n",
            " [ 86 856]]\n",
            "Classification Report :\n",
            "              precision    recall  f1-score   support\n",
            "\n",
            "           0       0.91      0.95      0.93       969\n",
            "           1       0.95      0.91      0.93       942\n",
            "\n",
            "    accuracy                           0.93      1911\n",
            "   macro avg       0.93      0.93      0.93      1911\n",
            "weighted avg       0.93      0.93      0.93      1911\n",
            "\n",
            "Distribution réelle des classes : {0: np.int64(969), 1: np.int64(942)}\n",
            "Distribution prédite des classes : {0: np.int64(1010), 1: np.int64(901)}\n"
          ]
        },
        {
          "output_type": "display_data",
          "data": {
            "text/plain": [
              "<Figure size 600x400 with 1 Axes>"
            ],
            "image/png": "[encoded data removed]"
          },
          "metadata": {}
        }
      ]
    },
    {
      "cell_type": "markdown",
      "source": [
        "Le modèle Gradient Boosting est très performant, quasiment au même niveau que le Random Forest. Il a une légère préférence pour bien détecter les classes 0, mais les deux classes sont bien équilibrées."
      ],
      "metadata": {
        "id": "vC1gFjzThFEw"
      }
    },
    {
      "cell_type": "code",
      "source": [
        "def apply_pca_auto(X_train, X_test, variance_threshold=0.80):\n",
        "    X_train_num = X_train.select_dtypes(include=[np.number])\n",
        "    X_test_num = X_test[X_train_num.columns]\n",
        "\n",
        "    scaler = StandardScaler()\n",
        "    X_train_scaled = scaler.fit_transform(X_train_num)\n",
        "    X_test_scaled = scaler.transform(X_test_num)\n",
        "\n",
        "    # PCA complète pour récupérer toutes les variances expliquées\n",
        "    pca_full = PCA(random_state=42)\n",
        "    pca_full.fit(X_train_scaled)\n",
        "\n",
        "    cum_var = np.cumsum(pca_full.explained_variance_ratio_)\n",
        "    n_components = np.searchsorted(cum_var, variance_threshold) + 1\n",
        "\n",
        "    print(f\"Nombre de composantes nécessaires pour {variance_threshold*100}% de variance : {n_components}\")\n",
        "\n",
        "    pca = PCA(n_components=n_components, random_state=42)\n",
        "    X_train_pca = pca.fit_transform(X_train_scaled)\n",
        "    X_test_pca = pca.transform(X_test_scaled)\n",
        "\n",
        "    print(f\"Variance expliquée par chaque composante : {pca.explained_variance_ratio_}\")\n",
        "    print(f\"Variance totale expliquée : {sum(pca.explained_variance_ratio_):.2f}\")\n",
        "\n",
        "    cols = [f\"PC{i+1}\" for i in range(n_components)]\n",
        "    return pd.DataFrame(X_train_pca, columns=cols), pd.DataFrame(X_test_pca, columns=cols)\n",
        "\n",
        "# Usage :\n",
        "X_train_pca, X_test_pca = apply_pca_auto(X_train, X_test, variance_threshold=0.80)\n"
      ],
      "metadata": {
        "colab": {
          "base_uri": "https://localhost:8080/"
        },
        "id": "oQleSAhWNdo2",
        "outputId": "fe313df2-0a6c-4202-bf1c-2c68988a7966"
      },
      "execution_count": 19,
      "outputs": [
        {
          "output_type": "stream",
          "name": "stdout",
          "text": [
            "Nombre de composantes nécessaires pour 80.0% de variance : 14\n",
            "Variance expliquée par chaque composante : [0.23583882 0.07762052 0.06904208 0.0557255  0.04797295 0.04375214\n",
            " 0.04264299 0.03910378 0.03780142 0.03721268 0.03643189 0.03517738\n",
            " 0.03466875 0.03368474]\n",
            "Variance totale expliquée : 0.83\n"
          ]
        }
      ]
    },
    {
      "cell_type": "markdown",
      "source": [
        "Nombre de composantes nécessaires : 14\n",
        "\n",
        "Cela veut dire que 14 composantes principales suffisent à représenter 80 % de l'information contenue dans tes variables initiales.\n",
        "\n",
        "Variance expliquée par chaque composante :\n",
        "\n",
        "Exemple : PC1 explique 20.5 %, PC2 environ 7.7 %, etc.\n",
        "\n",
        "Les composantes suivantes apportent de moins en moins d'information.\n",
        "\n",
        "Variance totale expliquée : 0.83 → 83 %\n",
        "\n",
        "Cela signifie qu’en utilisant uniquement 14 composantes (au lieu de toutes tes variables), tu conserves 83 % de la structure de ton jeu de données initial, ce qui est très bon."
      ],
      "metadata": {
        "id": "wKZ905JEint1"
      }
    },
    {
      "cell_type": "code",
      "source": [
        "def eval_model(name, model, X_train, X_test, y_train, y_test):\n",
        "    model.fit(X_train, y_train)\n",
        "    preds = model.predict(X_test)\n",
        "    print(f\"\\n--- {name} ---\")\n",
        "    print(f\"Accuracy : {accuracy_score(y_test, preds):.4f}\")\n",
        "    print(\"Confusion Matrix :\")\n",
        "    print(confusion_matrix(y_test, preds))\n",
        "    print(\"Classification Report :\")\n",
        "    print(classification_report(y_test, preds))\n",
        "    print(f\"Distribution réelle des classes : {dict(pd.Series(y_test).value_counts())}\")\n",
        "    print(f\"Distribution prédite des classes : {dict(pd.Series(preds).value_counts())}\")\n",
        "\n",
        "# Exemple d’utilisation avec ta PCA à 14 composantes\n",
        "X_train_pca, X_test_pca = apply_pca_auto(X_train, X_test, variance_threshold=0.80)\n",
        "\n",
        "# Instancier les modèles\n",
        "logreg = LogisticRegression(max_iter=1000, random_state=42)\n",
        "dtree = DecisionTreeClassifier(random_state=42)\n",
        "rf = RandomForestClassifier(random_state=42, n_jobs=-1)\n",
        "gbc = GradientBoostingClassifier(random_state=42)\n",
        "\n",
        "# Évaluer chaque modèle\n",
        "for name, model in [(\"Logistic Regression avec PCA\", logreg),\n",
        "                    (\"Decision Tree avec PCA\", dtree),\n",
        "                    (\"Random Forest avec PCA\", rf),\n",
        "                    (\"Gradient Boosting avec PCA\", gbc)]:\n",
        "    eval_model(name, model, X_train_pca, X_test_pca, y_train, y_test)\n"
      ],
      "metadata": {
        "colab": {
          "base_uri": "https://localhost:8080/"
        },
        "id": "7Guqed8KNj14",
        "outputId": "d165f092-c8b0-4029-f89e-20f924802349"
      },
      "execution_count": 20,
      "outputs": [
        {
          "output_type": "stream",
          "name": "stdout",
          "text": [
            "Nombre de composantes nécessaires pour 80.0% de variance : 14\n",
            "Variance expliquée par chaque composante : [0.23583882 0.07762052 0.06904208 0.0557255  0.04797295 0.04375214\n",
            " 0.04264299 0.03910378 0.03780142 0.03721268 0.03643189 0.03517738\n",
            " 0.03466875 0.03368474]\n",
            "Variance totale expliquée : 0.83\n",
            "\n",
            "--- Logistic Regression avec PCA ---\n",
            "Accuracy : 0.7645\n",
            "Confusion Matrix :\n",
            "[[681 288]\n",
            " [162 780]]\n",
            "Classification Report :\n",
            "              precision    recall  f1-score   support\n",
            "\n",
            "           0       0.81      0.70      0.75       969\n",
            "           1       0.73      0.83      0.78       942\n",
            "\n",
            "    accuracy                           0.76      1911\n",
            "   macro avg       0.77      0.77      0.76      1911\n",
            "weighted avg       0.77      0.76      0.76      1911\n",
            "\n",
            "Distribution réelle des classes : {0: np.int64(969), 1: np.int64(942)}\n",
            "Distribution prédite des classes : {1: np.int64(1068), 0: np.int64(843)}\n",
            "\n",
            "--- Decision Tree avec PCA ---\n",
            "Accuracy : 0.8001\n",
            "Confusion Matrix :\n",
            "[[794 175]\n",
            " [207 735]]\n",
            "Classification Report :\n",
            "              precision    recall  f1-score   support\n",
            "\n",
            "           0       0.79      0.82      0.81       969\n",
            "           1       0.81      0.78      0.79       942\n",
            "\n",
            "    accuracy                           0.80      1911\n",
            "   macro avg       0.80      0.80      0.80      1911\n",
            "weighted avg       0.80      0.80      0.80      1911\n",
            "\n",
            "Distribution réelle des classes : {0: np.int64(969), 1: np.int64(942)}\n",
            "Distribution prédite des classes : {0: np.int64(1001), 1: np.int64(910)}\n",
            "\n",
            "--- Random Forest avec PCA ---\n",
            "Accuracy : 0.8629\n",
            "Confusion Matrix :\n",
            "[[850 119]\n",
            " [143 799]]\n",
            "Classification Report :\n",
            "              precision    recall  f1-score   support\n",
            "\n",
            "           0       0.86      0.88      0.87       969\n",
            "           1       0.87      0.85      0.86       942\n",
            "\n",
            "    accuracy                           0.86      1911\n",
            "   macro avg       0.86      0.86      0.86      1911\n",
            "weighted avg       0.86      0.86      0.86      1911\n",
            "\n",
            "Distribution réelle des classes : {0: np.int64(969), 1: np.int64(942)}\n",
            "Distribution prédite des classes : {0: np.int64(993), 1: np.int64(918)}\n",
            "\n",
            "--- Gradient Boosting avec PCA ---\n",
            "Accuracy : 0.8629\n",
            "Confusion Matrix :\n",
            "[[862 107]\n",
            " [155 787]]\n",
            "Classification Report :\n",
            "              precision    recall  f1-score   support\n",
            "\n",
            "           0       0.85      0.89      0.87       969\n",
            "           1       0.88      0.84      0.86       942\n",
            "\n",
            "    accuracy                           0.86      1911\n",
            "   macro avg       0.86      0.86      0.86      1911\n",
            "weighted avg       0.86      0.86      0.86      1911\n",
            "\n",
            "Distribution réelle des classes : {0: np.int64(969), 1: np.int64(942)}\n",
            "Distribution prédite des classes : {0: np.int64(1017), 1: np.int64(894)}\n"
          ]
        }
      ]
    },
    {
      "cell_type": "markdown",
      "source": [
        "La PCA a montré qu’il faut 14 composantes principales pour expliquer 80 % de la variance totale des données. Chaque composante explique une part différente de cette variance, la première étant la plus importante (~23,6 %) et la quatorzième environ 3,4 %.\n",
        "\n",
        "Les matrices de confusion montrent que les modèles identifient correctement la majorité des classes 0 et 1. Globalement, la réduction de dimension par PCA permet de garder l’essentiel de l’information tout en améliorant la vitesse et la simplicité des modèles."
      ],
      "metadata": {
        "id": "IW30K213NjfR"
      }
    },
    {
      "cell_type": "markdown",
      "source": [
        "\n",
        "\n",
        "> Avec PCA, les modèles Random Forest et Gradient Boosting obtiennent la meilleure performance avec une accuracy de 86,29 % et un f1-score de 0.86, surpassant largement la régression logistique (76,45 %) et l’arbre de décision (80 %), ce qui montre que les modèles d’ensemble restent les plus robustes même après réduction de dimensionnalité.\n",
        "\n"
      ],
      "metadata": {
        "id": "zfXF18T4N8S1"
      }
    },
    {
      "cell_type": "code",
      "source": [
        "def plot_pca_variance(X, max_components=30):\n",
        "    # On sélectionne uniquement les colonnes numériques (au cas où)\n",
        "    X_num = X.select_dtypes(include=[np.number])\n",
        "\n",
        "    # Standardisation\n",
        "    scaler = StandardScaler()\n",
        "    X_scaled = scaler.fit_transform(X_num)\n",
        "\n",
        "    # PCA\n",
        "    pca = PCA(n_components=max_components, random_state=42)\n",
        "    pca.fit(X_scaled)\n",
        "\n",
        "    explained_variance_ratio = pca.explained_variance_ratio_\n",
        "    cumulative_variance = np.cumsum(explained_variance_ratio)\n",
        "\n",
        "    plt.figure(figsize=(10,6))\n",
        "    plt.bar(range(1, max_components + 1), explained_variance_ratio, alpha=0.6, label='Variance expliquée par composante')\n",
        "    plt.step(range(1, max_components + 1), cumulative_variance, where='mid', label='Variance cumulée')\n",
        "    plt.axhline(y=0.8, color='red', linestyle='--', label='Seuil 80% variance cumulée')\n",
        "\n",
        "    plt.xlabel('Nombre de composantes principales')\n",
        "    plt.ylabel('Variance expliquée')\n",
        "    plt.title('Variance expliquée individuelle et cumulée par PCA')\n",
        "    plt.legend(loc='best')\n",
        "    plt.grid(True)\n",
        "    plt.show()\n",
        "\n",
        "# Appelle la fonction en lui passant ton DataFrame X_train\n",
        "plot_pca_variance(X_train, max_components=30)\n"
      ],
      "metadata": {
        "colab": {
          "base_uri": "https://localhost:8080/",
          "height": 565
        },
        "id": "SrB2kZbINyG6",
        "outputId": "bf4345e7-446c-43ae-f097-839aeb301a66"
      },
      "execution_count": 21,
      "outputs": [
        {
          "output_type": "display_data",
          "data": {
            "text/plain": [
              "<Figure size 1000x600 with 1 Axes>"
            ],
            "image/png": "[encoded data removed]"
          },
          "metadata": {}
        }
      ]
    },
    {
      "cell_type": "markdown",
      "source": [
        "La fonction va automatiquement sélectionner les colonnes numériques.\n",
        "\n",
        "Elle standardise les données avant PCA (important).\n",
        "\n",
        "Elle trace la variance individuelle (barres) + variance cumulée (ligne).\n",
        "\n",
        "Ligne rouge pour voir où on dépasse 80% de variance expliquée."
      ],
      "metadata": {
        "id": "qz6x8C1wN95C"
      }
    },
    {
      "cell_type": "markdown",
      "source": [
        "## Synthèse :     \n",
        "\n",
        "Le modèle qui donne les meilleurs résultats est le Gradient Boosting, juste devant le Random Forest. Ces deux modèles sont très efficaces parce qu’ils utilisent plusieurs arbres pour améliorer les prédictions. Ils corrigent les erreurs au fur et à mesure, ce qui les rend plus précis et plus stables. La régression logistique, même si elle est simple et rapide, ne fonctionne pas aussi bien quand les relations entre les variables sont complexes. L’arbre de décision, lui, est facile à comprendre, mais il a tendance à trop s’adapter aux données, ce qui le rend moins fiable sur de nouvelles données.\n",
        "\n",
        "Les données sont globalement suffisantes pour permettre de bonnes prédictions. Même après avoir réduit le nombre de variables avec la méthode PCA, les modèles restent performants. Cela montre qu’on a gardé l’essentiel de l’information malgré la réduction.\n",
        "\n",
        "L’arbre de décision fonctionne comme une suite de questions qui divisent les données étape par étape, en choisissant à chaque fois la variable qui sépare le mieux les classes. À la fin, chaque branche mène à une prédiction.\n",
        "\n",
        "Dans les modèles sans PCA, certaines variables ressortent comme plus importantes car elles sont souvent utilisées au début de l’arbre. Par contre, avec la PCA, les variables sont transformées, donc on ne peut plus savoir directement lesquelles sont les plus importantes.\n",
        "\n",
        "L’approche uniquement basée sur les statistiques a quelques limites. Elle ne prend pas en compte le contexte du métier et peut repérer des liens qui ne veulent rien dire en réalité. Elle se base uniquement sur ce que les données montrent, sans comprendre le \"pourquoi\". Et même si un modèle fonctionne bien sur les données actuelles, il peut se tromper si les futures données sont un peu différentes."
      ],
      "metadata": {
        "id": "shrb0FUUkvaz"
      }
    }
  ]
}