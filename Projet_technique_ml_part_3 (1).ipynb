{
  "nbformat": 4,
  "nbformat_minor": 0,
  "metadata": {
    "colab": {
      "provenance": []
    },
    "kernelspec": {
      "name": "python3",
      "display_name": "Python 3"
    },
    "language_info": {
      "name": "python"
    }
  },
  "cells": [
    {
      "cell_type": "markdown",
      "source": [
        "# - Détection de FakeNews\n"
      ],
      "metadata": {
        "id": "kVVp7128sSKH"
      }
    },
    {
      "cell_type": "markdown",
      "source": [
        "# NLP + Machine Learning\n"
      ],
      "metadata": {
        "id": "PQRdCAZlqwv7"
      }
    },
    {
      "cell_type": "markdown",
      "source": [
        "### Imports généraux"
      ],
      "metadata": {
        "id": "aLQbVdYTlmog"
      }
    },
    {
      "cell_type": "code",
      "execution_count": 12,
      "metadata": {
        "colab": {
          "base_uri": "https://localhost:8080/"
        },
        "id": "kBjWsQRKlXMh",
        "outputId": "34602e4c-2087-4e6b-c19c-e8ae8d7e1d7b"
      },
      "outputs": [
        {
          "output_type": "stream",
          "name": "stderr",
          "text": [
            "[nltk_data] Downloading package stopwords to /root/nltk_data...\n",
            "[nltk_data]   Package stopwords is already up-to-date!\n"
          ]
        }
      ],
      "source": [
        "import pandas as pd\n",
        "import numpy as np\n",
        "import matplotlib.pyplot as plt\n",
        "import seaborn as sns\n",
        "from sklearn.model_selection import train_test_split\n",
        "from sklearn.feature_extraction.text import TfidfVectorizer, CountVectorizer\n",
        "from sklearn.linear_model import LogisticRegression\n",
        "from sklearn.metrics import classification_report, confusion_matrix, accuracy_score\n",
        "import nltk\n",
        "from sklearn.naive_bayes import MultinomialNB\n",
        "nltk.download('stopwords')\n",
        "from nltk.corpus import stopwords\n"
      ]
    },
    {
      "cell_type": "code",
      "source": [
        "# Charger le fichier\n",
        "df = pd.read_csv(\"/content/fake_news_sample_categorised.csv\")\n",
        "\n",
        "# Afficher les noms de colonnes\n",
        "print(\" Colonnes disponibles dans le fichier :\")\n",
        "print(df.columns.tolist())\n",
        "\n",
        "# Aperçu des 5 premières lignes\n",
        "print(\"\\n Aperçu du contenu :\")\n",
        "print(df.head())"
      ],
      "metadata": {
        "colab": {
          "base_uri": "https://localhost:8080/"
        },
        "id": "J5dzKG3Gl3Af",
        "outputId": "3ea462bc-80f8-453d-caab-d56eb4e84fb0"
      },
      "execution_count": 3,
      "outputs": [
        {
          "output_type": "stream",
          "name": "stdout",
          "text": [
            " Colonnes disponibles dans le fichier :\n",
            "['post', 'post_clean', 'fake', 'avg_word_length', 'stopword_ratio', 'hapax_ratio', 'id_categorie', 'word_count', 'char_count', 'sentence_count', 'avg_sentence_length', 'uppercase_ratio', 'punctuation_count', 'has_question', 'has_exclamation', 'contains_url', 'subjectivity', 'polarity', 'tfidf_keywords_top3', 'readability_score', 'pos_verb_ratio', 'pos_noun_ratio', 'repeated_words_ratio', 'title_case_word_ratio', 'language_detected', 'categorie']\n",
            "\n",
            " Aperçu du contenu :\n",
            "                                                post  \\\n",
            "0  Sénatoriales : les résultats des élections.La ...   \n",
            "1                 Live Spécial François Fillon\\r\\n27   \n",
            "2  Notre-Dame-des-Landes : « La décision prise pa...   \n",
            "3  Chasse: silence, on tire.Avec l'autorisation d...   \n",
            "4  Payet lance un appel à l’OM : « S’il vous plaî...   \n",
            "\n",
            "                                          post_clean  fake  avg_word_length  \\\n",
            "0  senatoriales resultats elections moitie postes...     0             8.26   \n",
            "1                       live special françois fillon     1             6.25   \n",
            "2  dame landes decision prise executif moins risq...     0             7.08   \n",
            "3  chasse silence tire autorisation silencieux as...     0             8.25   \n",
            "4  payet lance appel plait laissez peux jouer def...     1             6.35   \n",
            "\n",
            "   stopword_ratio  hapax_ratio  id_categorie  word_count  char_count  \\\n",
            "0           0.486        0.800             7          19         237   \n",
            "1           0.000        1.000             0           4          32   \n",
            "2           0.429        0.917             7          26         300   \n",
            "3           0.543        0.933             3          16         223   \n",
            "4           0.484        0.814            10         184        2066   \n",
            "\n",
            "   sentence_count  ...  subjectivity  polarity  \\\n",
            "0               4  ...             0         0   \n",
            "1               1  ...             0         0   \n",
            "2               3  ...             0         0   \n",
            "3               3  ...             0         0   \n",
            "4              15  ...             0         0   \n",
            "\n",
            "                  tfidf_keywords_top3  readability_score  pos_verb_ratio  \\\n",
            "0  resultats, senatoriales, elections               42.1           0.105   \n",
            "1      live, special, françois fillon               83.3           0.000   \n",
            "2           dame landes, landes, dame               50.3           0.115   \n",
            "3    chasseurs, insecurite, craignent               54.4           0.312   \n",
            "4          payet, west, dimitri payet               60.0           0.228   \n",
            "\n",
            "   pos_noun_ratio  repeated_words_ratio  title_case_word_ratio  \\\n",
            "0           0.368                 0.211                  0.211   \n",
            "1           0.250                 0.000                  1.000   \n",
            "2           0.423                 0.077                  0.154   \n",
            "3           0.375                 0.062                  0.188   \n",
            "4           0.332                 0.212                  0.207   \n",
            "\n",
            "  language_detected    categorie  \n",
            "0                fr    politique  \n",
            "1                fr       autres  \n",
            "2                fr    politique  \n",
            "3                fr  faitsdivers  \n",
            "4                fr        sport  \n",
            "\n",
            "[5 rows x 26 columns]\n"
          ]
        }
      ]
    },
    {
      "cell_type": "markdown",
      "source": [
        "## Étape 1 – Données à utiliser"
      ],
      "metadata": {
        "id": "h-q0e66CmKwp"
      }
    },
    {
      "cell_type": "code",
      "source": [
        "# Vérification colonnes utiles\n",
        "X_text = df[\"post_clean\"]\n",
        "y = df[\"fake\"]\n",
        "\n",
        "# Échantillonnage si besoin\n",
        "df_sampled = df.sample(n=5000, random_state=42) if len(df) > 5000 else df\n",
        "X_text = df_sampled[\"post_clean\"]\n",
        "y = df_sampled[\"fake\"]\n",
        "\n",
        "# Vectorisation TF-IDF\n",
        "vectorizer = TfidfVectorizer(max_features=51984)\n",
        "X_tfidf = vectorizer.fit_transform(X_text)\n",
        "\n",
        "# Split train/test\n",
        "X_train, X_test, y_train, y_test = train_test_split(X_tfidf, y, test_size=0.2, random_state=42)\n",
        "\n",
        "# Modèle : Régression Logistique\n",
        "model = LogisticRegression(max_iter=1000)\n",
        "model.fit(X_train, y_train)\n",
        "\n",
        "# Prédictions\n",
        "y_pred = model.predict(X_test)\n",
        "\n",
        "# Évaluation\n",
        "print(\"Accuracy :\", accuracy_score(y_test, y_pred))\n",
        "print(\"\\nConfusion Matrix (voir graphique ci-dessous) :\\n\", confusion_matrix(y_test, y_pred))\n",
        "print(\"\\nClassification Report :\\n\", classification_report(y_test, y_pred))"
      ],
      "metadata": {
        "colab": {
          "base_uri": "https://localhost:8080/"
        },
        "id": "n477aHU9l47-",
        "outputId": "87e7b392-2e55-4f8a-9de2-768094725f26"
      },
      "execution_count": 7,
      "outputs": [
        {
          "output_type": "stream",
          "name": "stdout",
          "text": [
            "Accuracy : 0.915\n",
            "\n",
            "Confusion Matrix (voir graphique ci-dessous) :\n",
            " [[443  57]\n",
            " [ 28 472]]\n",
            "\n",
            "Classification Report :\n",
            "               precision    recall  f1-score   support\n",
            "\n",
            "           0       0.94      0.89      0.91       500\n",
            "           1       0.89      0.94      0.92       500\n",
            "\n",
            "    accuracy                           0.92      1000\n",
            "   macro avg       0.92      0.92      0.91      1000\n",
            "weighted avg       0.92      0.92      0.91      1000\n",
            "\n"
          ]
        }
      ]
    },
    {
      "cell_type": "code",
      "source": [
        "# Affichage graphique de la matrice de confusion\n",
        "conf_mat = confusion_matrix(y_test, y_pred)\n",
        "plt.figure(figsize=(6, 5))\n",
        "sns.heatmap(conf_mat, annot=True, fmt='d', cmap='Blues', xticklabels=['VRAI', 'FAKE'], yticklabels=['VRAI', 'FAKE'])\n",
        "plt.title('Matrice de confusion')\n",
        "plt.xlabel('Prédit')\n",
        "plt.ylabel('Réel')\n",
        "plt.show()\n"
      ],
      "metadata": {
        "colab": {
          "base_uri": "https://localhost:8080/",
          "height": 487
        },
        "id": "xrbFbGqMm3ft",
        "outputId": "9132bdf9-eab9-4a04-d827-710d188126fd"
      },
      "execution_count": 8,
      "outputs": [
        {
          "output_type": "display_data",
          "data": {
            "text/plain": [
              "<Figure size 600x500 with 2 Axes>"
            ],
            "image/png": "[encoded data removed]"
          },
          "metadata": {}
        }
      ]
    },
    {
      "cell_type": "markdown",
      "source": [
        "Le modèle se débrouille bien : il identifie la grande majorité des fake news sans trop accuser à tort des vraies infos. On atteint environ 92 % de bonnes réponses overall, avec juste un peu plus d’erreurs quand il s’agit de confondre une vraie actu avec une fake."
      ],
      "metadata": {
        "id": "keexa9vXpNl3"
      }
    },
    {
      "cell_type": "markdown",
      "source": [
        "## Étape 2 – Vectorisation\n"
      ],
      "metadata": {
        "id": "xJ53nQtNmo_7"
      }
    },
    {
      "cell_type": "code",
      "source": [
        "french_stopwords = stopwords.words('french')\n",
        "\n",
        "params = {\n",
        "    'ngram_range': (1, 2),\n",
        "    'max_features': 5000,\n",
        "    'stop_words': french_stopwords  # liste de stopwords françaises\n",
        "}\n",
        "\n",
        "count_vect = CountVectorizer(**params)\n",
        "X_count = count_vect.fit_transform(X_text)\n",
        "print(\"CountVectorizer shape:\", X_count.shape)\n",
        "\n",
        "tfidf_vect = TfidfVectorizer(**params)\n",
        "X_tfidf = tfidf_vect.fit_transform(X_text)\n",
        "print(\"TfidfVectorizer shape:\", X_tfidf.shape)\n"
      ],
      "metadata": {
        "colab": {
          "base_uri": "https://localhost:8080/"
        },
        "id": "helyBQDTnQeF",
        "outputId": "7392ece7-2af0-437a-fd84-e5cdbc856629"
      },
      "execution_count": 10,
      "outputs": [
        {
          "output_type": "stream",
          "name": "stdout",
          "text": [
            "CountVectorizer shape: (5000, 5000)\n",
            "TfidfVectorizer shape: (5000, 5000)\n"
          ]
        }
      ]
    },
    {
      "cell_type": "markdown",
      "source": [
        "## Étape 3 – Modèles à entraîner"
      ],
      "metadata": {
        "id": "b9rg1JKhn_KB"
      }
    },
    {
      "cell_type": "code",
      "source": [
        "# Split train/test\n",
        "X_train, X_test, y_train, y_test = train_test_split(X_tfidf, y, test_size=0.2, random_state=42)\n",
        "\n",
        "def evaluate_model(model, X_test, y_test, vectorizer, top_n=10):\n",
        "    y_pred = model.predict(X_test)\n",
        "    print(f\"Accuracy: {accuracy_score(y_test, y_pred):.4f}\")\n",
        "    print(classification_report(y_test, y_pred))\n",
        "    print(\"Confusion matrix:\")\n",
        "    print(confusion_matrix(y_test, y_pred))\n",
        "\n",
        "    # Pour les modèles linéaires, afficher les top mots prédictifs\n",
        "    if hasattr(model, \"coef_\"):\n",
        "        feature_names = vectorizer.get_feature_names_out()\n",
        "        coefs = model.coef_[0]\n",
        "\n",
        "        # Mots les plus positifs (associés à la classe 1 = fake)\n",
        "        top_pos_indices = np.argsort(coefs)[-top_n:]\n",
        "        top_pos_words = [(feature_names[i], coefs[i]) for i in reversed(top_pos_indices)]\n",
        "\n",
        "        # Mots les plus négatifs (associés à la classe 0 = vrai)\n",
        "        top_neg_indices = np.argsort(coefs)[:top_n]\n",
        "        top_neg_words = [(feature_names[i], coefs[i]) for i in top_neg_indices]\n",
        "\n",
        "        print(f\"\\nTop {top_n} mots associés à la classe FAKE (1):\")\n",
        "        for word, coef in top_pos_words:\n",
        "            print(f\"{word}: {coef:.4f}\")\n",
        "\n",
        "        print(f\"\\nTop {top_n} mots associés à la classe VRAI (0):\")\n",
        "        for word, coef in top_neg_words:\n",
        "            print(f\"{word}: {coef:.4f}\")\n",
        "    print(\"\\n\" + \"=\"*50 + \"\\n\")\n",
        "\n",
        "# --- Logistic Regression ---\n",
        "print(\"Logistic Regression\")\n",
        "lr = LogisticRegression(max_iter=1000)\n",
        "lr.fit(X_train, y_train)\n",
        "evaluate_model(lr, X_test, y_test, tfidf_vect)\n",
        "\n",
        "# --- Multinomial Naive Bayes ---\n",
        "print(\"Multinomial Naive Bayes\")\n",
        "mnb = MultinomialNB()\n",
        "mnb.fit(X_train, y_train)\n",
        "evaluate_model(mnb, X_test, y_test, tfidf_vect)"
      ],
      "metadata": {
        "colab": {
          "base_uri": "https://localhost:8080/"
        },
        "id": "wDUPJD86nhvt",
        "outputId": "f39937d8-479f-4c25-cae1-c03e608e7b7b"
      },
      "execution_count": 17,
      "outputs": [
        {
          "output_type": "stream",
          "name": "stdout",
          "text": [
            "Logistic Regression\n",
            "Accuracy: 0.9140\n",
            "              precision    recall  f1-score   support\n",
            "\n",
            "           0       0.95      0.87      0.91       500\n",
            "           1       0.88      0.95      0.92       500\n",
            "\n",
            "    accuracy                           0.91      1000\n",
            "   macro avg       0.92      0.91      0.91      1000\n",
            "weighted avg       0.92      0.91      0.91      1000\n",
            "\n",
            "Confusion matrix:\n",
            "[[437  63]\n",
            " [ 23 477]]\n",
            "\n",
            "Top 10 mots associés à la classe FAKE (1):\n",
            "machin: 2.3939\n",
            "corse machin: 2.3854\n",
            "homme: 2.0888\n",
            "faire: 1.9545\n",
            "non classe: 1.8087\n",
            "decide: 1.5854\n",
            "video: 1.5724\n",
            "revelation: 1.5695\n",
            "septembre: 1.4731\n",
            "avoir: 1.4510\n",
            "\n",
            "Top 10 mots associés à la classe VRAI (0):\n",
            "facebook twitter: -4.9156\n",
            "partage facebook: -4.8383\n",
            "partage: -4.8175\n",
            "twitter: -4.8086\n",
            "facebook: -3.2991\n",
            "mardi: -2.4407\n",
            "mercredi: -2.3957\n",
            "jeudi: -2.3091\n",
            "dns: -2.1930\n",
            "proces: -2.1900\n",
            "\n",
            "==================================================\n",
            "\n",
            "Multinomial Naive Bayes\n",
            "Accuracy: 0.8910\n",
            "              precision    recall  f1-score   support\n",
            "\n",
            "           0       0.88      0.90      0.89       500\n",
            "           1       0.90      0.88      0.89       500\n",
            "\n",
            "    accuracy                           0.89      1000\n",
            "   macro avg       0.89      0.89      0.89      1000\n",
            "weighted avg       0.89      0.89      0.89      1000\n",
            "\n",
            "Confusion matrix:\n",
            "[[450  50]\n",
            " [ 59 441]]\n",
            "\n",
            "==================================================\n",
            "\n"
          ]
        }
      ]
    },
    {
      "cell_type": "markdown",
      "source": [
        "# Synthèse :     \n",
        "\n",
        "\n",
        "\n",
        "> Interprétation et Synthèse critique\n",
        "Après avoir entraîné nos modèles de classification pour différencier les fake news des vraies news, nous avons analysé les résultats et les caractéristiques qui distinguent ces deux catégories.\n",
        "\n",
        "\n",
        "\n",
        "1. Quels mots sont associés aux fake news ?\n",
        "\n",
        "Dans le modèle de régression logistique, les mots les plus fortement associés à la classe « fake news » sont des termes comme : machin, corse machin, homme, faire, non classe, décide, vidéo, révélation, septembre, avoir. On remarque que plusieurs de ces mots sont assez vagues ou génériques, ce qui pourrait refléter la nature souvent imprécise ou sensationnaliste des fake news. Par exemple, « machin » est un terme peu précis, « révélation » ou « vidéo » sont souvent utilisés pour attirer l’attention, mais sans forcément garantir la véracité du contenu. Ces mots traduisent donc une tendance à utiliser un vocabulaire accrocheur ou moins factuel, ce qui correspond bien à ce que l’on peut attendre des fake news.\n",
        "\n",
        "2. Quels mots sont caractéristiques des vraies news ?\n",
        "\n",
        "À l’inverse, les mots les plus typiques des vraies news sont : facebook twitter, partage facebook, twitter, facebook, mardi, mercredi, jeudi, dns, proces. Ces termes montrent que les vraies informations ont souvent une dimension factuelle plus nette : elles mentionnent des sources précises comme les réseaux sociaux, des dates exactes, ou des notions liées à des événements officiels comme un procès. Cela confirme que les vraies news s’appuient davantage sur des faits vérifiables et des références concrètes.\n",
        "\n",
        "3. La qualité de prédiction est-elle satisfaisante ?\n",
        "\n",
        "Les performances du modèle de régression logistique sont globalement bonnes, avec une précision (accuracy) de 91,4 % sur les données de test. Le rappel et la F1-score pour les deux classes sont également équilibrés, ce qui signifie que le modèle détecte bien à la fois les fake news et les vraies news, sans trop d’erreurs. La matrice de confusion montre que les erreurs sont relativement peu nombreuses, avec un léger avantage dans la détection des vraies news. Le modèle de Naive Bayes multinomial est un peu moins performant, avec une précision autour de 89 %, ce qui reste correct mais moins bon que la régression logistique.\n",
        "\n",
        "4. Synthèse critique de l’approche\n",
        "\n",
        "Cette méthode basée sur la vectorisation des textes avec CountVectorizer et TfidfVectorizer, en combinant unigrammes et bigrammes, permet de capturer une partie importante de l’information lexicale et contextuelle. Le filtrage des mots vides (stop words) en français évite que des mots fréquents mais peu informatifs polluent le modèle.\n",
        "\n",
        "L’un des points forts majeurs est la simplicité et l’interprétabilité des modèles linéaires comme la régression logistique. Ils offrent une explication claire en montrant quels mots contribuent le plus à la décision, ce qui est très utile pour comprendre le comportement du modèle et pour valider que celui-ci se base bien sur des éléments pertinents.\n",
        "\n",
        "Cependant, cette approche a aussi ses limites. Le vocabulaire est limité à 5000 mots, ce qui peut exclure certains termes rares mais potentiellement importants. De plus, la méthode ne tient pas compte du sens profond des phrases ni des relations sémantiques complexes, ce qui est souvent crucial pour différencier les informations vraies des fausses, surtout quand les fake news utilisent des formulations proches des vraies.\n",
        "\n",
        "Par ailleurs, cette méthode repose uniquement sur le contenu textuel brut. Elle ne prend pas en compte d’autres informations qui pourraient améliorer la détection, comme l’auteur du message, la date, le contexte ou les métadonnées.\n",
        "\n",
        "Enfin, même si la précision est élevée, il est important de tester la robustesse du modèle sur des jeux de données indépendants et d’utiliser des techniques comme la validation croisée pour s’assurer que les résultats ne sont pas dus à un surapprentissage sur les données d’entraînement."
      ],
      "metadata": {
        "id": "FkYBzUb-oEIR"
      }
    }
  ]
}